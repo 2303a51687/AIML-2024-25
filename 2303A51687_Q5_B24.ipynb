{
  "nbformat": 4,
  "nbformat_minor": 0,
  "metadata": {
    "colab": {
      "provenance": [],
      "authorship_tag": "ABX9TyOkZu0p2IR9wi0LZSoYpAL2",
      "include_colab_link": true
    },
    "kernelspec": {
      "name": "python3",
      "display_name": "Python 3"
    },
    "language_info": {
      "name": "python"
    }
  },
  "cells": [
    {
      "cell_type": "markdown",
      "metadata": {
        "id": "view-in-github",
        "colab_type": "text"
      },
      "source": [
        "<a href=\"https://colab.research.google.com/github/2303a51687/AIML-2024-25/blob/main/2303A51687_Q5_B24.ipynb\" target=\"_parent\"><img src=\"https://colab.research.google.com/assets/colab-badge.svg\" alt=\"Open In Colab\"/></a>"
      ]
    },
    {
      "cell_type": "markdown",
      "source": [
        "# *5.Prediction of Recipe reviews and feedback."
      ],
      "metadata": {
        "id": "wBOrS7gN_GmP"
      }
    },
    {
      "cell_type": "code",
      "source": [
        "import pandas as pd\n",
        "import zipfile"
      ],
      "metadata": {
        "id": "zNNN03wH8IpV"
      },
      "execution_count": null,
      "outputs": []
    },
    {
      "cell_type": "code",
      "source": [
        "data = pd.read_csv(\"/content/recipe+reviews+and+user+feedback+dataset.zip\")"
      ],
      "metadata": {
        "id": "stGoyfMf6nMR"
      },
      "execution_count": null,
      "outputs": []
    },
    {
      "cell_type": "code",
      "source": [
        "zip_file_path = 'recipe+reviews+and+user+feedback+dataset.zip'\n",
        "extraction_folder = 'recipe_dataset/'"
      ],
      "metadata": {
        "id": "NBP3vNG1760J"
      },
      "execution_count": null,
      "outputs": []
    },
    {
      "cell_type": "code",
      "source": [
        "with zipfile.ZipFile(zip_file_path, 'r') as zip_ref:\n",
        "      zip_ref.extractall(extraction_folder)"
      ],
      "metadata": {
        "id": "2XeqBQYt78xu"
      },
      "execution_count": null,
      "outputs": []
    },
    {
      "cell_type": "code",
      "source": [
        "csv_file_path = extraction_folder + 'Recipe Reviews and User Feedback Dataset.csv'\n",
        "data = pd.read_csv(csv_file_path)"
      ],
      "metadata": {
        "id": "cGb7Yybf8PvB"
      },
      "execution_count": null,
      "outputs": []
    },
    {
      "cell_type": "markdown",
      "source": [
        "Identify the recipe most appreciated?"
      ],
      "metadata": {
        "id": "P1p2G8sR9sSF"
      }
    },
    {
      "cell_type": "code",
      "source": [
        "most_appreciated_recipe = data.groupby(\"recipe_name\")[\"stars\"].mean().idxmax()\n",
        "most_appreciated_rating = data.groupby(\"recipe_name\")[\"stars\"].mean().max()"
      ],
      "metadata": {
        "id": "byfyFh158Tsm"
      },
      "execution_count": null,
      "outputs": []
    },
    {
      "cell_type": "code",
      "source": [
        "print(f\"Q1: Most appreciated recipe: {most_appreciated_recipe} with an average rating of {most_appreciated_rating:.2f}\")"
      ],
      "metadata": {
        "colab": {
          "base_uri": "https://localhost:8080/"
        },
        "id": "X1ohiSw88YPX",
        "outputId": "4f0527c1-cbf8-44f5-87b6-8c8073ccbec3"
      },
      "execution_count": null,
      "outputs": [
        {
          "output_type": "stream",
          "name": "stdout",
          "text": [
            "Q1: Most appreciated recipe: Rustic Italian Tortellini Soup with an average rating of 4.73\n"
          ]
        }
      ]
    },
    {
      "cell_type": "markdown",
      "source": [
        "List top 5 recipe prepared most"
      ],
      "metadata": {
        "id": "ObTT53ev93i6"
      }
    },
    {
      "cell_type": "code",
      "source": [
        "top_5_prepared = data[\"recipe_name\"].value_counts().head(5)"
      ],
      "metadata": {
        "id": "CvwhvAu88bfm"
      },
      "execution_count": null,
      "outputs": []
    },
    {
      "cell_type": "code",
      "source": [
        "print(\"\\nQ2: Top 5 recipes prepared the most:\")\n",
        "print(top_5_prepared)"
      ],
      "metadata": {
        "colab": {
          "base_uri": "https://localhost:8080/"
        },
        "id": "RtKomJKH8jTy",
        "outputId": "7103a537-4be9-4733-ff8b-64e9c1af34d0"
      },
      "execution_count": null,
      "outputs": [
        {
          "output_type": "stream",
          "name": "stdout",
          "text": [
            "\n",
            "Q2: Top 5 recipes prepared the most:\n",
            "recipe_name\n",
            "Cheeseburger Soup         725\n",
            "Creamy White Chili        654\n",
            "Best Ever Banana Bread    509\n",
            "Enchilada Casser-Ole!     421\n",
            "Basic Homemade Bread      397\n",
            "Name: count, dtype: int64\n"
          ]
        }
      ]
    },
    {
      "cell_type": "markdown",
      "source": [
        "Identify the recipe with most users"
      ],
      "metadata": {
        "id": "_K0AIz2K-Gas"
      }
    },
    {
      "cell_type": "code",
      "source": [
        "most_delight_recipe = data.groupby(\"recipe_name\")[\"thumbs_up\"].sum().idxmax()\n",
        "most_delight_thumbs_up = data.groupby(\"recipe_name\")[\"thumbs_up\"].sum().max()\n"
      ],
      "metadata": {
        "id": "XodNCgbI8ri2"
      },
      "execution_count": null,
      "outputs": []
    },
    {
      "cell_type": "code",
      "source": [
        "print(f\"\\nQ3: Recipe with most users' delight: {most_delight_recipe} with {most_delight_thumbs_up} thumbs up\")"
      ],
      "metadata": {
        "colab": {
          "base_uri": "https://localhost:8080/"
        },
        "id": "9H7Ki54V80GD",
        "outputId": "e991d2ae-a1a4-462f-b65e-908c5d0d826f"
      },
      "execution_count": null,
      "outputs": [
        {
          "output_type": "stream",
          "name": "stdout",
          "text": [
            "\n",
            "Q3: Recipe with most users' delight: Amish Breakfast Casserole with 971 thumbs up\n"
          ]
        }
      ]
    },
    {
      "cell_type": "markdown",
      "source": [
        "Name recipe with highest reputation"
      ],
      "metadata": {
        "id": "2XNAJOJI-Wyp"
      }
    },
    {
      "cell_type": "code",
      "source": [
        "highest_reputation_recipe = data.groupby(\"recipe_name\")[\"user_reputation\"].sum().idxmax()\n",
        "highest_reputation_score = data.groupby(\"recipe_name\")[\"user_reputation\"].sum().max()"
      ],
      "metadata": {
        "id": "JQTOLzr-86QU"
      },
      "execution_count": null,
      "outputs": []
    },
    {
      "cell_type": "code",
      "source": [
        "print(f\"\\nQ4: Recipe with the highest reputation: {highest_reputation_recipe} with a total reputation score of {highest_reputation_score}\")"
      ],
      "metadata": {
        "colab": {
          "base_uri": "https://localhost:8080/"
        },
        "id": "ePsDvMOx88h3",
        "outputId": "1336f664-2629-4f0e-d7b9-079e9c543513"
      },
      "execution_count": null,
      "outputs": [
        {
          "output_type": "stream",
          "name": "stdout",
          "text": [
            "\n",
            "Q4: Recipe with the highest reputation: Cheeseburger Soup with a total reputation score of 1179\n"
          ]
        }
      ]
    },
    {
      "cell_type": "markdown",
      "source": [
        "Most ordered recipe among the 100 recipe list"
      ],
      "metadata": {
        "id": "9kqbupIi-e6q"
      }
    },
    {
      "cell_type": "code",
      "source": [
        "top_100_recipes = data[\"recipe_name\"].value_counts().head(100)"
      ],
      "metadata": {
        "id": "dL8wWPSK9J8_"
      },
      "execution_count": null,
      "outputs": []
    },
    {
      "cell_type": "code",
      "source": [
        "print(\"\\nQ5: Most ordered recipes among the top 100:\")\n",
        "print(top_100_recipes)"
      ],
      "metadata": {
        "colab": {
          "base_uri": "https://localhost:8080/"
        },
        "id": "7-7gYYMH9Ex9",
        "outputId": "d4b427e8-70be-4213-c073-38d35b75f648"
      },
      "execution_count": null,
      "outputs": [
        {
          "output_type": "stream",
          "name": "stdout",
          "text": [
            "\n",
            "Q5: Most ordered recipes among the top 100:\n",
            "recipe_name\n",
            "Cheeseburger Soup               725\n",
            "Creamy White Chili              654\n",
            "Best Ever Banana Bread          509\n",
            "Enchilada Casser-Ole!           421\n",
            "Basic Homemade Bread            397\n",
            "                               ... \n",
            "Peanut Butter Cup Cheesecake     96\n",
            "Blueberry French Toast           90\n",
            "Caramel Heavenlies               86\n",
            "Lime Chicken Tacos               86\n",
            "Vegetarian Linguine              31\n",
            "Name: count, Length: 100, dtype: int64\n"
          ]
        }
      ]
    }
  ]
}