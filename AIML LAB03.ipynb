{
  "nbformat": 4,
  "nbformat_minor": 0,
  "metadata": {
    "colab": {
      "provenance": [],
      "authorship_tag": "ABX9TyOgxbfO3iOXJA6L+CR5wPiO",
      "include_colab_link": true
    },
    "kernelspec": {
      "name": "python3",
      "display_name": "Python 3"
    },
    "language_info": {
      "name": "python"
    }
  },
  "cells": [
    {
      "cell_type": "markdown",
      "metadata": {
        "id": "view-in-github",
        "colab_type": "text"
      },
      "source": [
        "<a href=\"https://colab.research.google.com/github/2303a51687/AIML-2024-25/blob/main/AIML%20LAB03.ipynb\" target=\"_parent\"><img src=\"https://colab.research.google.com/assets/colab-badge.svg\" alt=\"Open In Colab\"/></a>"
      ]
    },
    {
      "cell_type": "markdown",
      "source": [
        "\n",
        "# LAB-03 : Implement the AI Game Strategy"
      ],
      "metadata": {
        "id": "sl2P7DnTbLRC"
      }
    },
    {
      "cell_type": "markdown",
      "source": [
        "# Part 1 –(a). Install the Python Libraries required for Game Strategy."
      ],
      "metadata": {
        "id": "_z0g_3EhbNR5"
      }
    },
    {
      "cell_type": "markdown",
      "source": [
        "1. Install the python libraries - collections, random, math, functools, cache = functools.lru cache(10**6)\n",
        "2. Implement a Game Class Constructor using action, is terminal, result, utility functions\n",
        "3. A game is similar to a problem, but it has a terminal test instead of a goal test, and a utility for each terminal state.\n",
        "4. Create a game subclass and implement actions, result, is terminal, and utility.\n",
        "5. You will also need to set the initial attribute to the initial state; this can be done in the constructor.\n",
        "6. Implement a Player Game using the Game Class Constructor."
      ],
      "metadata": {
        "id": "sMdx4nY3bRwq"
      }
    },
    {
      "cell_type": "code",
      "source": [
        "import functools\n",
        "cache = functools.lru_cache(10**6)\n",
        "from collections import namedtuple, Counter, defaultdict\n",
        "import random\n",
        "import math"
      ],
      "metadata": {
        "id": "KIaSSq_eb0B-"
      },
      "execution_count": 1,
      "outputs": []
    },
    {
      "cell_type": "code",
      "source": [
        "class Game:\n",
        "   def actions(self, state):\n",
        "\n",
        "        raise NotImplementedError\n",
        "\n",
        "   def result(self, state, move):\n",
        "\n",
        "        raise NotImplementedError\n",
        "\n",
        "   def is_terminal(self, state):\n",
        "\n",
        "        return not self.actions(state)\n",
        "\n",
        "   def utility(self, state, player):\n",
        "\n",
        "        raise NotImplementedError\n",
        "\n",
        "\n",
        "def play_game(game, strategies: dict, verbose=False):\n",
        "    \"\"\"Play a turn-taking game. `strategies` is a {player_name: function} dict,\n",
        "    where function(state, game) is used to get the player's move.\"\"\"\n",
        "    state = game.initial\n",
        "    while not game.is_terminal(state):\n",
        "        player = state.to_move\n",
        "        move = strategies[player](game, state)\n",
        "        state = game.result(state, move)\n",
        "        if verbose:\n",
        "            print('Player', player, 'move:', move)\n",
        "            print(state)\n",
        "    return state"
      ],
      "metadata": {
        "id": "rFUna5Wub4l0"
      },
      "execution_count": 3,
      "outputs": []
    },
    {
      "cell_type": "markdown",
      "source": [
        "# Part 2 – Implement the Game Strategy Algorithms."
      ],
      "metadata": {
        "id": "ABO5QrNgcKCH"
      }
    },
    {
      "cell_type": "markdown",
      "source": [
        "# 1. Implement the MiniMax Search Algorithm"
      ],
      "metadata": {
        "id": "04oQwj2zcO2C"
      }
    },
    {
      "cell_type": "code",
      "source": [
        "def minimax_search(game, state):\n",
        "    \"\"\"Search game tree to determine best move; return (value, move) pair.\"\"\"\n",
        "\n",
        "    player = state.to_move\n",
        "\n",
        "    def max_value(state):\n",
        "        if game.is_terminal(state):\n",
        "            return game.utility(state, player), None\n",
        "        v, move = -infinity, None\n",
        "        for a in game.actions(state):\n",
        "            v2, _ = min_value(game.result(state, a))\n",
        "            if v2 > v:\n",
        "                v, move = v2, a\n",
        "        return v, move\n",
        "\n",
        "    def min_value(state):\n",
        "        if game.is_terminal(state):\n",
        "            return game.utility(state, player), None\n",
        "        v, move = +infinity, None\n",
        "        for a in game.actions(state):\n",
        "            v2, _ = max_value(game.result(state, a))\n",
        "            if v2 < v:\n",
        "                v, move = v2, a\n",
        "        return v, move\n",
        "\n",
        "    return max_value(state)\n",
        "\n",
        "infinity = math.inf"
      ],
      "metadata": {
        "id": "RhKe2LzjcX8f"
      },
      "execution_count": 4,
      "outputs": []
    },
    {
      "cell_type": "markdown",
      "source": [
        "2.Implement the Alpha-Beta Search Algorithm"
      ],
      "metadata": {
        "id": "nx77l20rcSVG"
      }
    },
    {
      "cell_type": "code",
      "source": [
        "def minimax_search(game, state):\n",
        "    \"\"\"Search game tree to determine best move; return (value, move) pair.\"\"\"\n",
        "\n",
        "    player = state.to_move\n",
        "\n",
        "    def max_value(state):\n",
        "        if game.is_terminal(state):\n",
        "            return game.utility(state, player), None\n",
        "        v, move = -infinity, None\n",
        "        for a in game.actions(state):\n",
        "            v2, _ = min_value(game.result(state, a))\n",
        "            if v2 > v:\n",
        "                v, move = v2, a\n",
        "        return v, move\n",
        "\n",
        "    def min_value(state):\n",
        "        if game.is_terminal(state):\n",
        "            return game.utility(state, player), None\n",
        "        v, move = +infinity, None\n",
        "        for a in game.actions(state):\n",
        "            v2, _ = max_value(game.result(state, a))\n",
        "            if v2 < v:\n",
        "                v, move = v2, a\n",
        "        return v, move\n",
        "\n",
        "    return max_value(state)\n",
        "\n",
        "infinity = math.inf"
      ],
      "metadata": {
        "id": "skBXegUvciZQ"
      },
      "execution_count": 5,
      "outputs": []
    },
    {
      "cell_type": "code",
      "source": [
        "def alphabeta_search(game, state):\n",
        "    \"\"\"Search game to determine best action; use alpha-beta pruning.\n",
        "    \"\"Search all the way to the leaves.\"\"\"\n",
        "\n",
        "    player = state.to_move\n",
        "\n",
        "    def max_value(state, alpha, beta):\n",
        "        if game.is_terminal(state):\n",
        "            return game.utility(state, player), None\n",
        "        v, move = -infinity, None\n",
        "        for a in game.actions(state):\n",
        "            v2, _ = min_value(game.result(state, a), alpha, beta)\n",
        "            if v2 > v:\n",
        "                v, move = v2, a\n",
        "                alpha = max(alpha, v)\n",
        "            if v >= beta:\n",
        "                return v, move\n",
        "        return v, move\n",
        "\n",
        "    def min_value(state, alpha, beta):\n",
        "        if game.is_terminal(state):\n",
        "            return game.utility(state, player), None\n",
        "        v, move = +infinity, None\n",
        "        for a in game.actions(state):\n",
        "            v2, _ = max_value(game.result(state, a), alpha, beta)\n",
        "            if v2 < v:\n",
        "                v, move = v2, a\n",
        "                beta = min(beta, v)\n",
        "            if v <= alpha:\n",
        "                return v, move\n",
        "        return v, move\n",
        "\n",
        "    return max_value(state, -infinity, +infinity)"
      ],
      "metadata": {
        "id": "2CHffkrZco8g"
      },
      "execution_count": 6,
      "outputs": []
    },
    {
      "cell_type": "markdown",
      "source": [
        "# Part-03: Implement the Game Strategy using TicTacToe."
      ],
      "metadata": {
        "id": "MCpYTz9kc3B9"
      }
    },
    {
      "cell_type": "markdown",
      "source": [
        "# 1. Implement TicToCToe game using init , actions, result, is terminal, utility, display constructors"
      ],
      "metadata": {
        "id": "FIVN1xXhc6GV"
      }
    },
    {
      "cell_type": "code",
      "source": [
        "class TicTacToe(Game):\n",
        "    \"\"\"Play TicTacToe on an `height` by `width` board, needing `k` in a row to win.\n",
        "    'X' plays first against 'O'.\"\"\"\n",
        "\n",
        "    def __init__(self, height=3, width=3, k=3):\n",
        "        self.k = k # k in a row\n",
        "        self.squares = {(x, y) for x in range(width) for y in range(height)}\n",
        "        self.initial = Board(height=height, width=width, to_move='X', utility=0)\n",
        "\n",
        "    def actions(self, board):\n",
        "        \"\"\"Legal moves are any square not yet taken.\"\"\"\n",
        "        return self.squares - set(board)\n",
        "\n",
        "    def result(self, board, square):\n",
        "        \"\"\"Place a marker for current player on square.\"\"\"\n",
        "        player = board.to_move\n",
        "        board = board.new({square: player}, to_move=('O' if player == 'X' else 'X'))\n",
        "        win = k_in_row(board, player, square, self.k)\n",
        "        board.utility = (0 if not win else +1 if player == 'X' else -1)\n",
        "        return board\n",
        "\n",
        "    def utility(self, board, player):\n",
        "        \"\"\"Return the value to player; 1 for win, -1 for loss, 0 otherwise.\"\"\"\n",
        "        return board.utility if player == 'X' else -board.utility\n",
        "\n",
        "    def is_terminal(self, board):\n",
        "        \"\"\"A board is a terminal state if it is won or there are no empty squares.\"\"\"\n",
        "        return board.utility != 0 or len(self.squares) == len(board)\n",
        "\n",
        "    def display(self, board): print(board)\n",
        "\n",
        "def k_in_row(board, player, square, k):\n",
        "    \"\"\"True if player has k pieces in a line through square.\"\"\"\n",
        "    def in_row(x, y, dx, dy): return 0 if board[x, y] != player else 1 + in_row(x + dx, y + dy, dx, dy)\n",
        "    return any(in_row(*square, dx, dy) + in_row(*square, -dx, -dy)-1>=k\n",
        "               for (dx, dy) in ((0, 1), (1, 0), (1, 1), (1, -1)))"
      ],
      "metadata": {
        "id": "M4kk-5MmdOk2"
      },
      "execution_count": 8,
      "outputs": []
    },
    {
      "cell_type": "markdown",
      "source": [
        "2. Implement a Game Board using defaultdict using init , new, missing, hash, repr"
      ],
      "metadata": {
        "id": "5DBmSFvXdgkh"
      }
    },
    {
      "cell_type": "code",
      "source": [
        "class Board(defaultdict):\n",
        "    \"\"\"A board has the player to move, a cached utility value,\n",
        "    and a dict of {(x, y): player} entries, where player is 'X' or 'O'.\"\"\"\n",
        "    empty = '.'\n",
        "    off = '#'\n",
        "\n",
        "    def __init__(self, width=8, height=8, to_move=None, **kwds):\n",
        "        self.__dict__.update(width=width, height=height, to_move=to_move, **kwds)\n",
        "\n",
        "    def new(self, changes: dict, **kwds) -> 'Board':\n",
        "        \"Given a dict of {(x, y): contents} changes, return a new Board with the changes.\"\n",
        "        board = Board(width=self.width, height=self.height, **kwds)\n",
        "        board.update(self)\n",
        "        board.update(changes)\n",
        "        return board\n",
        "\n",
        "    def __missing__(self, loc):\n",
        "        x, y = loc\n",
        "        if 0 <= x < self.width and 0 <= y < self.height:\n",
        "            return self.empty\n",
        "        else:\n",
        "            return self.off\n",
        "\n",
        "    def __hash__(self):\n",
        "        return hash(tuple(sorted(self.items()))) + hash(self.to_move)\n",
        "\n",
        "    def __repr__(self):\n",
        "        def row(y): return ' '.join(self[x, y] for x in range(self.width))\n",
        "        return '\\n'.join(map(row, range(self.height))) +  '\\n'\n",
        "\n",
        "        def random_player(game, state): return random.choice(list(game.actions(state)))\n",
        "\n",
        "def player(search_algorithm):\n",
        "    \"\"\"A game player who uses the specified search algorithm\"\"\"\n",
        "    return lambda game, state: search_algorithm(game, state)[1]\n",
        ""
      ],
      "metadata": {
        "id": "hCzpYjAjdj7S"
      },
      "execution_count": 9,
      "outputs": []
    },
    {
      "cell_type": "markdown",
      "source": [
        "# Part 4 – Evaluate the AI Game Strategy using TicTocToe."
      ],
      "metadata": {
        "id": "Ds8H3iFtdu6R"
      }
    },
    {
      "cell_type": "markdown",
      "source": [
        "1. Implement Game Strategy using play game(TicTacToe(), dict(X=random player, O=player(alphabeta search)), verbose=True).utility\n",
        "2. Implement Game strategy using play game(TicTacToe(), dict(X=player(alphabeta search), O=player(minimax search)), verbose=True).utility"
      ],
      "metadata": {
        "id": "y_yTm9mydw_H"
      }
    },
    {
      "cell_type": "code",
      "source": [
        "play_game(TicTacToe(), dict(X=player(alphabeta_search), O=player(minimax_search)), verbose=True).utility"
      ],
      "metadata": {
        "colab": {
          "base_uri": "https://localhost:8080/"
        },
        "id": "IxarVdo4d6LZ",
        "outputId": "dd355f0f-750c-45f5-c0a4-2e99b1141950"
      },
      "execution_count": 10,
      "outputs": [
        {
          "output_type": "stream",
          "name": "stdout",
          "text": [
            "Player X move: (0, 1)\n",
            ". . .\n",
            "X . .\n",
            ". . .\n",
            "\n",
            "Player O move: (2, 1)\n",
            ". . .\n",
            "X . O\n",
            ". . .\n",
            "\n",
            "Player X move: (1, 2)\n",
            ". . .\n",
            "X . O\n",
            ". X .\n",
            "\n",
            "Player O move: (0, 0)\n",
            "O . .\n",
            "X . O\n",
            ". X .\n",
            "\n",
            "Player X move: (1, 1)\n",
            "O . .\n",
            "X X O\n",
            ". X .\n",
            "\n",
            "Player O move: (1, 0)\n",
            "O O .\n",
            "X X O\n",
            ". X .\n",
            "\n",
            "Player X move: (2, 0)\n",
            "O O X\n",
            "X X O\n",
            ". X .\n",
            "\n",
            "Player O move: (0, 2)\n",
            "O O X\n",
            "X X O\n",
            "O X .\n",
            "\n",
            "Player X move: (2, 2)\n",
            "O O X\n",
            "X X O\n",
            "O X X\n",
            "\n"
          ]
        },
        {
          "output_type": "execute_result",
          "data": {
            "text/plain": [
              "0"
            ]
          },
          "metadata": {},
          "execution_count": 10
        }
      ]
    }
  ]
}